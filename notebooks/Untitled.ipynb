{
 "cells": [
  {
   "cell_type": "code",
   "execution_count": 1,
   "metadata": {},
   "outputs": [],
   "source": [
    "import sys\n",
    "import os\n",
    "sys.path.append(os.path.abspath(os.path.join('..')))\n",
    "import pandas as pd\n",
    "import re\n",
    "# from wordcloud import STOPWORDS,WordCloud\n",
    "import matplotlib.pyplot as plt\n"
   ]
  },
  {
   "cell_type": "code",
   "execution_count": 2,
   "metadata": {},
   "outputs": [],
   "source": [
    "from dowhy import CausalModel\n",
    "import dowhy.datasets as ds"
   ]
  },
  {
   "cell_type": "code",
   "execution_count": 3,
   "metadata": {},
   "outputs": [],
   "source": [
    "d = ds.linear_dataset(beta=5,\n",
    "    num_common_causes=5,\n",
    "    num_instruments = 0,\n",
    "    num_samples=10000,\n",
    "    treatment_is_binary=True)"
   ]
  },
  {
   "cell_type": "code",
   "execution_count": 5,
   "metadata": {
    "scrolled": false
   },
   "outputs": [
    {
     "data": {
      "text/plain": [
       "{'df':             W0        W1        W2        W3        W4     v0         y\n",
       " 0    -1.271922  2.344032  0.619431 -0.618801  0.463482   True  6.265612\n",
       " 1     0.581407  0.511293 -0.187885 -0.151007  1.678970  False  1.517665\n",
       " 2    -1.030375  0.860324  2.320844 -0.549851  1.264051   True  9.739411\n",
       " 3    -0.787608  1.671711 -0.834867 -0.297545  0.762480  False -1.616599\n",
       " 4    -0.020406  0.853121  0.575968 -0.419254  2.118213   True  7.627142\n",
       " ...        ...       ...       ...       ...       ...    ...       ...\n",
       " 9995 -1.097608 -0.179105  0.081002 -1.957976  0.979118  False -3.213662\n",
       " 9996 -0.075754 -1.366259  2.161526 -0.011650  0.490671   True  8.992291\n",
       " 9997 -1.715885  0.989580  0.949162  0.230919  1.181177   True  6.262373\n",
       " 9998 -0.530615  1.128455  0.196185 -0.191271  0.729427   True  5.799453\n",
       " 9999  0.186062 -0.349510  1.067156  1.937808  0.665116   True  9.737016\n",
       " \n",
       " [10000 rows x 7 columns],\n",
       " 'treatment_name': ['v0'],\n",
       " 'outcome_name': 'y',\n",
       " 'common_causes_names': ['W0', 'W1', 'W2', 'W3', 'W4'],\n",
       " 'instrument_names': [],\n",
       " 'effect_modifier_names': [],\n",
       " 'frontdoor_variables_names': [],\n",
       " 'dot_graph': 'digraph { U[label=\"Unobserved Confounders\"]; U->y;v0->y;U->v0;W0-> v0; W1-> v0; W2-> v0; W3-> v0; W4-> v0;W0-> y; W1-> y; W2-> y; W3-> y; W4-> y;}',\n",
       " 'gml_graph': 'graph[directed 1node[ id \"y\" label \"y\"]node[ id \"Unobserved Confounders\" label \"Unobserved Confounders\"]edge[source \"Unobserved Confounders\" target \"y\"]node[ id \"W0\" label \"W0\"] node[ id \"W1\" label \"W1\"] node[ id \"W2\" label \"W2\"] node[ id \"W3\" label \"W3\"] node[ id \"W4\" label \"W4\"]node[ id \"v0\" label \"v0\"]edge[source \"Unobserved Confounders\" target \"v0\"]edge[source \"v0\" target \"y\"]edge[ source \"W0\" target \"v0\"] edge[ source \"W1\" target \"v0\"] edge[ source \"W2\" target \"v0\"] edge[ source \"W3\" target \"v0\"] edge[ source \"W4\" target \"v0\"]edge[ source \"W0\" target \"y\"] edge[ source \"W1\" target \"y\"] edge[ source \"W2\" target \"y\"] edge[ source \"W3\" target \"y\"] edge[ source \"W4\" target \"y\"]]',\n",
       " 'ate': 5.000053650964708}"
      ]
     },
     "execution_count": 5,
     "metadata": {},
     "output_type": "execute_result"
    }
   ],
   "source": [
    "d"
   ]
  },
  {
   "cell_type": "code",
   "execution_count": null,
   "metadata": {},
   "outputs": [],
   "source": []
  },
  {
   "cell_type": "code",
   "execution_count": null,
   "metadata": {},
   "outputs": [],
   "source": []
  },
  {
   "cell_type": "code",
   "execution_count": null,
   "metadata": {},
   "outputs": [],
   "source": []
  },
  {
   "cell_type": "code",
   "execution_count": null,
   "metadata": {},
   "outputs": [],
   "source": []
  },
  {
   "cell_type": "code",
   "execution_count": null,
   "metadata": {},
   "outputs": [],
   "source": []
  },
  {
   "cell_type": "code",
   "execution_count": null,
   "metadata": {},
   "outputs": [],
   "source": []
  }
 ],
 "metadata": {
  "kernelspec": {
   "display_name": "Python 3",
   "language": "python",
   "name": "python3"
  },
  "language_info": {
   "codemirror_mode": {
    "name": "ipython",
    "version": 3
   },
   "file_extension": ".py",
   "mimetype": "text/x-python",
   "name": "python",
   "nbconvert_exporter": "python",
   "pygments_lexer": "ipython3",
   "version": "3.8.5"
  }
 },
 "nbformat": 4,
 "nbformat_minor": 4
}
